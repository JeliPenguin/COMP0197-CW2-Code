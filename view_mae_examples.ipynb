{
 "cells": [
  {
   "cell_type": "code",
   "execution_count": 1,
   "metadata": {},
   "outputs": [],
   "source": [
    "from src.mae_code.plot_trained_mae import view_mae_results"
   ]
  },
  {
   "cell_type": "code",
   "execution_count": 4,
   "metadata": {},
   "outputs": [
    {
     "name": "stdout",
     "output_type": "stream",
     "text": [
      "The autoreload extension is already loaded. To reload it, use:\n",
      "  %reload_ext autoreload\n"
     ]
    }
   ],
   "source": [
    "%load_ext autoreload\n",
    "%autoreload 2"
   ]
  },
  {
   "cell_type": "code",
   "execution_count": 5,
   "metadata": {},
   "outputs": [
    {
     "name": "stdout",
     "output_type": "stream",
     "text": [
      "cpu\n",
      "Unexpected exception formatting exception. Falling back to standard exception\n"
     ]
    },
    {
     "name": "stderr",
     "output_type": "stream",
     "text": [
      "Traceback (most recent call last):\n",
      "  File \"c:\\Users\\jeffb\\anaconda3\\lib\\site-packages\\IPython\\core\\interactiveshell.py\", line 3369, in run_code\n",
      "    exec(code_obj, self.user_global_ns, self.user_ns)\n",
      "  File \"C:\\Users\\jeffb\\AppData\\Local\\Temp\\ipykernel_6120\\2088525423.py\", line 2, in <cell line: 2>\n",
      "    view_mae_results(MAE_PATH)\n",
      "  File \"e:\\Masters\\COMP0197-CW2-Code\\src\\mae_code\\plot_trained_mae.py\", line 58, in view_mae_results\n",
      "    model, old_args = load_model(model_path,device)\n",
      "  File \"e:\\Masters\\COMP0197-CW2-Code\\src\\mae_code\\mae_utils.py\", line 283, in load_model\n",
      "    model.load_state_dict(torch.load(os.path.join(model_path,\"model.pth\")),map_location=device)\n",
      "  File \"c:\\Users\\jeffb\\anaconda3\\lib\\site-packages\\torch\\serialization.py\", line 1014, in load\n",
      "    return _load(opened_zipfile,\n",
      "  File \"c:\\Users\\jeffb\\anaconda3\\lib\\site-packages\\torch\\serialization.py\", line 1422, in _load\n",
      "    result = unpickler.load()\n",
      "  File \"c:\\Users\\jeffb\\anaconda3\\lib\\site-packages\\torch\\serialization.py\", line 1392, in persistent_load\n",
      "    typed_storage = load_tensor(dtype, nbytes, key, _maybe_decode_ascii(location))\n",
      "  File \"c:\\Users\\jeffb\\anaconda3\\lib\\site-packages\\torch\\serialization.py\", line 1366, in load_tensor\n",
      "    wrap_storage=restore_location(storage, location),\n",
      "  File \"c:\\Users\\jeffb\\anaconda3\\lib\\site-packages\\torch\\serialization.py\", line 381, in default_restore_location\n",
      "    result = fn(storage, location)\n",
      "  File \"c:\\Users\\jeffb\\anaconda3\\lib\\site-packages\\torch\\serialization.py\", line 274, in _cuda_deserialize\n",
      "    device = validate_cuda_device(location)\n",
      "  File \"c:\\Users\\jeffb\\anaconda3\\lib\\site-packages\\torch\\serialization.py\", line 258, in validate_cuda_device\n",
      "    raise RuntimeError('Attempting to deserialize object on a CUDA '\n",
      "RuntimeError: Attempting to deserialize object on a CUDA device but torch.cuda.is_available() is False. If you are running on a CPU-only machine, please use torch.load with map_location=torch.device('cpu') to map your storages to the CPU.\n",
      "\n",
      "During handling of the above exception, another exception occurred:\n",
      "\n",
      "Traceback (most recent call last):\n",
      "  File \"c:\\Users\\jeffb\\anaconda3\\lib\\site-packages\\IPython\\core\\interactiveshell.py\", line 1982, in showtraceback\n",
      "    stb = self.InteractiveTB.structured_traceback(\n",
      "  File \"c:\\Users\\jeffb\\anaconda3\\lib\\site-packages\\IPython\\core\\ultratb.py\", line 1118, in structured_traceback\n",
      "    return FormattedTB.structured_traceback(\n",
      "  File \"c:\\Users\\jeffb\\anaconda3\\lib\\site-packages\\IPython\\core\\ultratb.py\", line 1012, in structured_traceback\n",
      "    return VerboseTB.structured_traceback(\n",
      "  File \"c:\\Users\\jeffb\\anaconda3\\lib\\site-packages\\IPython\\core\\ultratb.py\", line 865, in structured_traceback\n",
      "    formatted_exception = self.format_exception_as_a_whole(etype, evalue, etb, number_of_lines_of_context,\n",
      "  File \"c:\\Users\\jeffb\\anaconda3\\lib\\site-packages\\IPython\\core\\ultratb.py\", line 799, in format_exception_as_a_whole\n",
      "    self.get_records(etb, number_of_lines_of_context, tb_offset) if etb else []\n",
      "  File \"c:\\Users\\jeffb\\anaconda3\\lib\\site-packages\\IPython\\core\\ultratb.py\", line 845, in get_records\n",
      "    style = stack_data.style_with_executing_node(style, \"bg:ansiyellow\")\n",
      "  File \"c:\\Users\\jeffb\\anaconda3\\lib\\site-packages\\stack_data\\core.py\", line 424, in style_with_executing_node\n",
      "    class NewStyle(style):\n",
      "  File \"c:\\Users\\jeffb\\anaconda3\\lib\\site-packages\\pygments\\style.py\", line 91, in __new__\n",
      "    ndef[4] = colorformat(styledef[3:])\n",
      "  File \"c:\\Users\\jeffb\\anaconda3\\lib\\site-packages\\pygments\\style.py\", line 58, in colorformat\n",
      "    assert False, \"wrong color format %r\" % text\n",
      "AssertionError: wrong color format 'ansiyellow'\n"
     ]
    }
   ],
   "source": [
    "MAE_PATH = \"./models/MAE/00000\"\n",
    "view_mae_results(MAE_PATH)"
   ]
  }
 ],
 "metadata": {
  "kernelspec": {
   "display_name": "base",
   "language": "python",
   "name": "python3"
  },
  "language_info": {
   "codemirror_mode": {
    "name": "ipython",
    "version": 3
   },
   "file_extension": ".py",
   "mimetype": "text/x-python",
   "name": "python",
   "nbconvert_exporter": "python",
   "pygments_lexer": "ipython3",
   "version": "3.9.12"
  }
 },
 "nbformat": 4,
 "nbformat_minor": 2
}
