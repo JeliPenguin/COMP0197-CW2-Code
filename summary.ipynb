{
 "cells": [
  {
   "cell_type": "code",
   "execution_count": 5,
   "metadata": {},
   "outputs": [],
   "source": [
    "import matplotlib.pyplot as plt\n",
    "from src.finetune.pipeline import Pipeline\n",
    "from src.segnet_bm.test import test_all_segnets\n",
    "%matplotlib inline"
   ]
  },
  {
   "cell_type": "code",
   "execution_count": 6,
   "metadata": {},
   "outputs": [],
   "source": [
    "%load_ext autoreload\n",
    "%autoreload 2"
   ]
  },
  {
   "cell_type": "markdown",
   "metadata": {},
   "source": [
    "# Evaluation Metrics"
   ]
  },
  {
   "cell_type": "code",
   "execution_count": 18,
   "metadata": {},
   "outputs": [],
   "source": [
    "def mae_tester(name):\n",
    "    pipeline = Pipeline()\n",
    "    pipeline.load_model_checkpoint(f\"./models/trained_models/{name}.pt\")\n",
    "    return pipeline.test()"
   ]
  },
  {
   "cell_type": "code",
   "execution_count": null,
   "metadata": {},
   "outputs": [],
   "source": [
    "segnet_results = test_all_segnets()"
   ]
  },
  {
   "cell_type": "code",
   "execution_count": 9,
   "metadata": {},
   "outputs": [],
   "source": [
    "dataset_proportions = [0.1,0.2,0.5,0.8,1]"
   ]
  },
  {
   "cell_type": "code",
   "execution_count": 17,
   "metadata": {},
   "outputs": [
    {
     "name": "stdout",
     "output_type": "stream",
     "text": [
      "====================================================================================================\n",
      "On dataset proportion:  0.1 \n",
      "\n",
      "               Model       Pixel Accuracy                 mIOU\n",
      "                   1                    2                    3\n",
      "                   4                    5                    6\n",
      "====================================================================================================\n",
      "On dataset proportion:  0.2 \n",
      "\n",
      "               Model       Pixel Accuracy                 mIOU\n",
      "                   1                    2                    3\n",
      "                   4                    5                    6\n",
      "====================================================================================================\n",
      "On dataset proportion:  0.5 \n",
      "\n",
      "               Model       Pixel Accuracy                 mIOU\n",
      "                   1                    2                    3\n",
      "                   4                    5                    6\n",
      "====================================================================================================\n",
      "On dataset proportion:  0.8 \n",
      "\n",
      "               Model       Pixel Accuracy                 mIOU\n",
      "                   1                    2                    3\n",
      "                   4                    5                    6\n",
      "====================================================================================================\n",
      "On dataset proportion:  1 \n",
      "\n",
      "               Model       Pixel Accuracy                 mIOU\n",
      "                   1                    2                    3\n",
      "                   4                    5                    6\n"
     ]
    }
   ],
   "source": [
    "for p in dataset_proportions:\n",
    "    print(\"=\"*100)\n",
    "    print(\"On dataset proportion: \",p,\"\\n\")\n",
    "    mae_pixel_acc,mae_iou = mae_tester()\n",
    "    Data = [\n",
    "        [\"MAE\",mae_pixel_acc,mae_iou],\n",
    "        [\"SegNet\",segnet_results[p][0][0],segnet_results[p][0][0]],\n",
    "        [\"SegNet DSC\",segnet_results[p][1][0],segnet_results[p][1][0]]\n",
    "    ]\n",
    "    formatted_row = '{:>20} {:>20} {:>20}'\n",
    "    print(formatted_row.format(\"Model\", \"Pixel Accuracy\", \"mIOU\"))\n",
    "    for Row in Data:\n",
    "        print(formatted_row.format(*Row))"
   ]
  },
  {
   "cell_type": "markdown",
   "metadata": {},
   "source": [
    "# Training Performance"
   ]
  },
  {
   "cell_type": "markdown",
   "metadata": {},
   "source": [
    "## IOU"
   ]
  },
  {
   "cell_type": "code",
   "execution_count": null,
   "metadata": {},
   "outputs": [],
   "source": []
  },
  {
   "cell_type": "markdown",
   "metadata": {},
   "source": [
    "## Pixel Accuracy"
   ]
  },
  {
   "cell_type": "code",
   "execution_count": null,
   "metadata": {},
   "outputs": [],
   "source": []
  },
  {
   "cell_type": "markdown",
   "metadata": {},
   "source": [
    "a"
   ]
  }
 ],
 "metadata": {
  "kernelspec": {
   "display_name": "base",
   "language": "python",
   "name": "python3"
  },
  "language_info": {
   "codemirror_mode": {
    "name": "ipython",
    "version": 3
   },
   "file_extension": ".py",
   "mimetype": "text/x-python",
   "name": "python",
   "nbconvert_exporter": "python",
   "pygments_lexer": "ipython3",
   "version": "3.11.5"
  }
 },
 "nbformat": 4,
 "nbformat_minor": 2
}
