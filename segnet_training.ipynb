{
 "cells": [
  {
   "cell_type": "code",
   "execution_count": null,
   "metadata": {},
   "outputs": [],
   "source": [
    "from src.segnet_bm.train import standard_segnet_training,segnet_dsc_training\n",
    "from src.segnet_bm.test import test_all_segnets\n",
    "import matplotlib.pyplot as plt"
   ]
  },
  {
   "cell_type": "code",
   "execution_count": null,
   "metadata": {},
   "outputs": [],
   "source": [
    "%load_ext autoreload\n",
    "%autoreload 2"
   ]
  },
  {
   "cell_type": "code",
   "execution_count": 33,
   "metadata": {},
   "outputs": [],
   "source": [
    "def plot_training_metrics(training_loss,validation_loss,iou,pixel_accuracy):\n",
    "    epochs = range(1, len(training_loss) + 1)\n",
    "    plt.figure(figsize=(12, 8))\n",
    "\n",
    "    # Plot IOU\n",
    "    plt.plot(epochs, iou, 'b', label='IOU')\n",
    "\n",
    "    # Plot training and validation losses\n",
    "    plt.plot(epochs, training_loss, 'r', label='Training Loss')\n",
    "    plt.plot(epochs, validation_loss, 'g', label='Validation Loss')\n",
    "\n",
    "    # Plot pixel accuracy\n",
    "    plt.plot(epochs, pixel_accuracy, 'y', label='Pixel Accuracy')\n",
    "\n",
    "    plt.title('Training Metrics')\n",
    "    plt.xlabel('Epochs')\n",
    "    plt.ylabel('Metrics')\n",
    "    plt.legend()\n",
    "    plt.grid(True)\n",
    "    plt.show()"
   ]
  },
  {
   "cell_type": "code",
   "execution_count": null,
   "metadata": {},
   "outputs": [],
   "source": [
    "std_training_loss, std_validation_loss, std_iou, std_pixel_accuracy = standard_segnet_training()"
   ]
  },
  {
   "cell_type": "code",
   "execution_count": null,
   "metadata": {},
   "outputs": [],
   "source": [
    "plot_training_metrics(std_training_loss, std_validation_loss, std_iou, std_pixel_accuracy)"
   ]
  },
  {
   "cell_type": "code",
   "execution_count": null,
   "metadata": {},
   "outputs": [],
   "source": [
    "dsc_training_loss, dsc_validation_loss, dsc_iou, dsc_pixel_accuracy = segnet_dsc_training()"
   ]
  },
  {
   "cell_type": "code",
   "execution_count": null,
   "metadata": {},
   "outputs": [],
   "source": [
    "plot_training_metrics(dsc_training_loss, dsc_validation_loss, dsc_iou, dsc_pixel_accuracy)"
   ]
  },
  {
   "cell_type": "code",
   "execution_count": null,
   "metadata": {},
   "outputs": [],
   "source": [
    "test_all_segnets()"
   ]
  }
 ],
 "metadata": {
  "kernelspec": {
   "display_name": "base",
   "language": "python",
   "name": "python3"
  },
  "language_info": {
   "codemirror_mode": {
    "name": "ipython",
    "version": 3
   },
   "file_extension": ".py",
   "mimetype": "text/x-python",
   "name": "python",
   "nbconvert_exporter": "python",
   "pygments_lexer": "ipython3",
   "version": "3.9.12"
  }
 },
 "nbformat": 4,
 "nbformat_minor": 2
}
